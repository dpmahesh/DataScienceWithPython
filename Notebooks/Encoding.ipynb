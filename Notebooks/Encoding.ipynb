{
 "cells": [
  {
   "cell_type": "markdown",
   "metadata": {},
   "source": [
    "# Encoding - Converting categorical data to numerical\n",
    "1. Nominal data - OneHotEncoding and GetDummies\n",
    "2. Ordinal data - When there is a hierarchy in the data, we use LabelEncoding, OrdinalEncoder, manual encoding"
   ]
  },
  {
   "cell_type": "code",
   "execution_count": 1,
   "metadata": {
    "ExecuteTime": {
     "end_time": "2023-02-10T12:08:36.812431Z",
     "start_time": "2023-02-10T12:08:36.081823Z"
    }
   },
   "outputs": [],
   "source": [
    "import numpy as np\n",
    "import pandas as pd"
   ]
  },
  {
   "cell_type": "code",
   "execution_count": 8,
   "metadata": {
    "ExecuteTime": {
     "end_time": "2023-02-10T12:08:36.816432Z",
     "start_time": "2023-02-10T12:08:36.816432Z"
    }
   },
   "outputs": [
    {
     "data": {
      "text/plain": "                City  Customer Age      Customer Name Customer Segment  \\\n0         McKeesport           NaN     Jessica Myrick   Small Business   \n1              Bowie           NaN     Matt Collister      Home Office   \n2               Napa           NaN  Alan Schoenberger        Corporate   \n3         Montebello           NaN  Elizabeth Moffitt         Consumer   \n4               Napa           NaN  Alan Schoenberger        Corporate   \n...              ...           ...                ...              ...   \n8394       Fairfield          95.0      Tony Molinari        Corporate   \n8395  Harker Heights          95.0    Matt Hagelstein      Home Office   \n8396       Riverview          95.0      Theresa Swint         Consumer   \n8397   Nicholasville          95.0    Maribeth Yedwab      Home Office   \n8398   Nicholasville          95.0    Maribeth Yedwab      Home Office   \n\n      Discount  Number of Records  Order Date  Order ID Order Priority  \\\n0         0.10                  1  01-01-2012     28774           High   \n1         0.08                  1  01-01-2012     13729  Not Specified   \n2         0.00                  1  02-01-2012     37537            Low   \n3         0.08                  1  02-01-2012     44069       Critical   \n4         0.07                  1  02-01-2012     37537            Low   \n...        ...                ...         ...       ...            ...   \n8394      0.10                  1  30-12-2015     50950  Not Specified   \n8395      0.09                  1  30-12-2015     25542            Low   \n8396      0.10                  1  30-12-2015     45127         Medium   \n8397      0.09                  1  30-12-2015     49344            Low   \n8398      0.00                  1  30-12-2015     49344            Low   \n\n      Order Quantity  ...   Profit   Region Row ID    Sales   Ship Date  \\\n0                 32  ...  -111.80     East   4031   180.36  02-01-2012   \n1                  9  ...  -342.91     East   1914   872.48  03-01-2012   \n2                  4  ...  -193.08     West   5272  1239.06  02-01-2012   \n3                 43  ...   247.79     West   6225   614.80  02-01-2012   \n4                 43  ... -1049.85     West   5273  4083.19  04-01-2012   \n...              ...  ...      ...      ...    ...      ...         ...   \n8394              35  ...   -15.07     West   7142   448.10  30-12-2015   \n8395              37  ...   -18.66  Central   3583   257.46  30-12-2015   \n8396              10  ...    -1.29    South   6361    14.15  30-12-2015   \n8397               1  ...  -745.20    South   6916   803.33  30-12-2015   \n8398              31  ...    27.85    South   6915   672.93  30-12-2015   \n\n           Ship Mode Shipping Cost         State  Unit Price Zip Code  \n0        Regular Air          4.69  Pennsylvania        5.98    15131  \n1        Express Air         35.00      Maryland       95.99    20715  \n2     Delivery Truck         48.80    California      291.73    94559  \n3        Regular Air          1.97    California       15.04    90640  \n4     Delivery Truck         45.00    California      100.98    94559  \n...              ...           ...           ...         ...      ...  \n8394     Express Air          4.51    California       13.48    94533  \n8395     Express Air          4.23         Texas        7.28    76543  \n8396     Regular Air          0.70       Florida        1.48    33569  \n8397     Regular Air         24.49      Kentucky      832.81    40356  \n8398     Regular Air          4.00      Kentucky       19.98    40356  \n\n[8399 rows x 25 columns]",
      "text/html": "<div>\n<style scoped>\n    .dataframe tbody tr th:only-of-type {\n        vertical-align: middle;\n    }\n\n    .dataframe tbody tr th {\n        vertical-align: top;\n    }\n\n    .dataframe thead th {\n        text-align: right;\n    }\n</style>\n<table border=\"1\" class=\"dataframe\">\n  <thead>\n    <tr style=\"text-align: right;\">\n      <th></th>\n      <th>City</th>\n      <th>Customer Age</th>\n      <th>Customer Name</th>\n      <th>Customer Segment</th>\n      <th>Discount</th>\n      <th>Number of Records</th>\n      <th>Order Date</th>\n      <th>Order ID</th>\n      <th>Order Priority</th>\n      <th>Order Quantity</th>\n      <th>...</th>\n      <th>Profit</th>\n      <th>Region</th>\n      <th>Row ID</th>\n      <th>Sales</th>\n      <th>Ship Date</th>\n      <th>Ship Mode</th>\n      <th>Shipping Cost</th>\n      <th>State</th>\n      <th>Unit Price</th>\n      <th>Zip Code</th>\n    </tr>\n  </thead>\n  <tbody>\n    <tr>\n      <th>0</th>\n      <td>McKeesport</td>\n      <td>NaN</td>\n      <td>Jessica Myrick</td>\n      <td>Small Business</td>\n      <td>0.10</td>\n      <td>1</td>\n      <td>01-01-2012</td>\n      <td>28774</td>\n      <td>High</td>\n      <td>32</td>\n      <td>...</td>\n      <td>-111.80</td>\n      <td>East</td>\n      <td>4031</td>\n      <td>180.36</td>\n      <td>02-01-2012</td>\n      <td>Regular Air</td>\n      <td>4.69</td>\n      <td>Pennsylvania</td>\n      <td>5.98</td>\n      <td>15131</td>\n    </tr>\n    <tr>\n      <th>1</th>\n      <td>Bowie</td>\n      <td>NaN</td>\n      <td>Matt Collister</td>\n      <td>Home Office</td>\n      <td>0.08</td>\n      <td>1</td>\n      <td>01-01-2012</td>\n      <td>13729</td>\n      <td>Not Specified</td>\n      <td>9</td>\n      <td>...</td>\n      <td>-342.91</td>\n      <td>East</td>\n      <td>1914</td>\n      <td>872.48</td>\n      <td>03-01-2012</td>\n      <td>Express Air</td>\n      <td>35.00</td>\n      <td>Maryland</td>\n      <td>95.99</td>\n      <td>20715</td>\n    </tr>\n    <tr>\n      <th>2</th>\n      <td>Napa</td>\n      <td>NaN</td>\n      <td>Alan Schoenberger</td>\n      <td>Corporate</td>\n      <td>0.00</td>\n      <td>1</td>\n      <td>02-01-2012</td>\n      <td>37537</td>\n      <td>Low</td>\n      <td>4</td>\n      <td>...</td>\n      <td>-193.08</td>\n      <td>West</td>\n      <td>5272</td>\n      <td>1239.06</td>\n      <td>02-01-2012</td>\n      <td>Delivery Truck</td>\n      <td>48.80</td>\n      <td>California</td>\n      <td>291.73</td>\n      <td>94559</td>\n    </tr>\n    <tr>\n      <th>3</th>\n      <td>Montebello</td>\n      <td>NaN</td>\n      <td>Elizabeth Moffitt</td>\n      <td>Consumer</td>\n      <td>0.08</td>\n      <td>1</td>\n      <td>02-01-2012</td>\n      <td>44069</td>\n      <td>Critical</td>\n      <td>43</td>\n      <td>...</td>\n      <td>247.79</td>\n      <td>West</td>\n      <td>6225</td>\n      <td>614.80</td>\n      <td>02-01-2012</td>\n      <td>Regular Air</td>\n      <td>1.97</td>\n      <td>California</td>\n      <td>15.04</td>\n      <td>90640</td>\n    </tr>\n    <tr>\n      <th>4</th>\n      <td>Napa</td>\n      <td>NaN</td>\n      <td>Alan Schoenberger</td>\n      <td>Corporate</td>\n      <td>0.07</td>\n      <td>1</td>\n      <td>02-01-2012</td>\n      <td>37537</td>\n      <td>Low</td>\n      <td>43</td>\n      <td>...</td>\n      <td>-1049.85</td>\n      <td>West</td>\n      <td>5273</td>\n      <td>4083.19</td>\n      <td>04-01-2012</td>\n      <td>Delivery Truck</td>\n      <td>45.00</td>\n      <td>California</td>\n      <td>100.98</td>\n      <td>94559</td>\n    </tr>\n    <tr>\n      <th>...</th>\n      <td>...</td>\n      <td>...</td>\n      <td>...</td>\n      <td>...</td>\n      <td>...</td>\n      <td>...</td>\n      <td>...</td>\n      <td>...</td>\n      <td>...</td>\n      <td>...</td>\n      <td>...</td>\n      <td>...</td>\n      <td>...</td>\n      <td>...</td>\n      <td>...</td>\n      <td>...</td>\n      <td>...</td>\n      <td>...</td>\n      <td>...</td>\n      <td>...</td>\n      <td>...</td>\n    </tr>\n    <tr>\n      <th>8394</th>\n      <td>Fairfield</td>\n      <td>95.0</td>\n      <td>Tony Molinari</td>\n      <td>Corporate</td>\n      <td>0.10</td>\n      <td>1</td>\n      <td>30-12-2015</td>\n      <td>50950</td>\n      <td>Not Specified</td>\n      <td>35</td>\n      <td>...</td>\n      <td>-15.07</td>\n      <td>West</td>\n      <td>7142</td>\n      <td>448.10</td>\n      <td>30-12-2015</td>\n      <td>Express Air</td>\n      <td>4.51</td>\n      <td>California</td>\n      <td>13.48</td>\n      <td>94533</td>\n    </tr>\n    <tr>\n      <th>8395</th>\n      <td>Harker Heights</td>\n      <td>95.0</td>\n      <td>Matt Hagelstein</td>\n      <td>Home Office</td>\n      <td>0.09</td>\n      <td>1</td>\n      <td>30-12-2015</td>\n      <td>25542</td>\n      <td>Low</td>\n      <td>37</td>\n      <td>...</td>\n      <td>-18.66</td>\n      <td>Central</td>\n      <td>3583</td>\n      <td>257.46</td>\n      <td>30-12-2015</td>\n      <td>Express Air</td>\n      <td>4.23</td>\n      <td>Texas</td>\n      <td>7.28</td>\n      <td>76543</td>\n    </tr>\n    <tr>\n      <th>8396</th>\n      <td>Riverview</td>\n      <td>95.0</td>\n      <td>Theresa Swint</td>\n      <td>Consumer</td>\n      <td>0.10</td>\n      <td>1</td>\n      <td>30-12-2015</td>\n      <td>45127</td>\n      <td>Medium</td>\n      <td>10</td>\n      <td>...</td>\n      <td>-1.29</td>\n      <td>South</td>\n      <td>6361</td>\n      <td>14.15</td>\n      <td>30-12-2015</td>\n      <td>Regular Air</td>\n      <td>0.70</td>\n      <td>Florida</td>\n      <td>1.48</td>\n      <td>33569</td>\n    </tr>\n    <tr>\n      <th>8397</th>\n      <td>Nicholasville</td>\n      <td>95.0</td>\n      <td>Maribeth Yedwab</td>\n      <td>Home Office</td>\n      <td>0.09</td>\n      <td>1</td>\n      <td>30-12-2015</td>\n      <td>49344</td>\n      <td>Low</td>\n      <td>1</td>\n      <td>...</td>\n      <td>-745.20</td>\n      <td>South</td>\n      <td>6916</td>\n      <td>803.33</td>\n      <td>30-12-2015</td>\n      <td>Regular Air</td>\n      <td>24.49</td>\n      <td>Kentucky</td>\n      <td>832.81</td>\n      <td>40356</td>\n    </tr>\n    <tr>\n      <th>8398</th>\n      <td>Nicholasville</td>\n      <td>95.0</td>\n      <td>Maribeth Yedwab</td>\n      <td>Home Office</td>\n      <td>0.00</td>\n      <td>1</td>\n      <td>30-12-2015</td>\n      <td>49344</td>\n      <td>Low</td>\n      <td>31</td>\n      <td>...</td>\n      <td>27.85</td>\n      <td>South</td>\n      <td>6915</td>\n      <td>672.93</td>\n      <td>30-12-2015</td>\n      <td>Regular Air</td>\n      <td>4.00</td>\n      <td>Kentucky</td>\n      <td>19.98</td>\n      <td>40356</td>\n    </tr>\n  </tbody>\n</table>\n<p>8399 rows × 25 columns</p>\n</div>"
     },
     "execution_count": 8,
     "metadata": {},
     "output_type": "execute_result"
    }
   ],
   "source": [
    "df = pd.read_csv('../data/Retail.csv')\n",
    "df"
   ]
  },
  {
   "cell_type": "markdown",
   "metadata": {},
   "source": [
    "# Factorize"
   ]
  },
  {
   "cell_type": "code",
   "execution_count": 9,
   "metadata": {
    "ExecuteTime": {
     "end_time": "2023-02-10T12:08:36.819434Z",
     "start_time": "2023-02-10T12:08:36.818432Z"
    }
   },
   "outputs": [
    {
     "data": {
      "text/plain": "                City  Customer Age      Customer Name Customer Segment  \\\n0         McKeesport           NaN     Jessica Myrick   Small Business   \n1              Bowie           NaN     Matt Collister      Home Office   \n2               Napa           NaN  Alan Schoenberger        Corporate   \n3         Montebello           NaN  Elizabeth Moffitt         Consumer   \n4               Napa           NaN  Alan Schoenberger        Corporate   \n...              ...           ...                ...              ...   \n8394       Fairfield          95.0      Tony Molinari        Corporate   \n8395  Harker Heights          95.0    Matt Hagelstein      Home Office   \n8396       Riverview          95.0      Theresa Swint         Consumer   \n8397   Nicholasville          95.0    Maribeth Yedwab      Home Office   \n8398   Nicholasville          95.0    Maribeth Yedwab      Home Office   \n\n      Discount  Number of Records  Order Date  Order ID Order Priority  \\\n0         0.10                  1  01-01-2012     28774           High   \n1         0.08                  1  01-01-2012     13729  Not Specified   \n2         0.00                  1  02-01-2012     37537            Low   \n3         0.08                  1  02-01-2012     44069       Critical   \n4         0.07                  1  02-01-2012     37537            Low   \n...        ...                ...         ...       ...            ...   \n8394      0.10                  1  30-12-2015     50950  Not Specified   \n8395      0.09                  1  30-12-2015     25542            Low   \n8396      0.10                  1  30-12-2015     45127         Medium   \n8397      0.09                  1  30-12-2015     49344            Low   \n8398      0.00                  1  30-12-2015     49344            Low   \n\n      Order Quantity  ...   Region Row ID    Sales   Ship Date  \\\n0                 32  ...     East   4031   180.36  02-01-2012   \n1                  9  ...     East   1914   872.48  03-01-2012   \n2                  4  ...     West   5272  1239.06  02-01-2012   \n3                 43  ...     West   6225   614.80  02-01-2012   \n4                 43  ...     West   5273  4083.19  04-01-2012   \n...              ...  ...      ...    ...      ...         ...   \n8394              35  ...     West   7142   448.10  30-12-2015   \n8395              37  ...  Central   3583   257.46  30-12-2015   \n8396              10  ...    South   6361    14.15  30-12-2015   \n8397               1  ...    South   6916   803.33  30-12-2015   \n8398              31  ...    South   6915   672.93  30-12-2015   \n\n           Ship Mode  Shipping Cost         State  Unit Price  Zip Code  \\\n0        Regular Air           4.69  Pennsylvania        5.98     15131   \n1        Express Air          35.00      Maryland       95.99     20715   \n2     Delivery Truck          48.80    California      291.73     94559   \n3        Regular Air           1.97    California       15.04     90640   \n4     Delivery Truck          45.00    California      100.98     94559   \n...              ...            ...           ...         ...       ...   \n8394     Express Air           4.51    California       13.48     94533   \n8395     Express Air           4.23         Texas        7.28     76543   \n8396     Regular Air           0.70       Florida        1.48     33569   \n8397     Regular Air          24.49      Kentucky      832.81     40356   \n8398     Regular Air           4.00      Kentucky       19.98     40356   \n\n     region_encoded  \n0                 0  \n1                 0  \n2                 1  \n3                 1  \n4                 1  \n...             ...  \n8394              1  \n8395              2  \n8396              3  \n8397              3  \n8398              3  \n\n[8399 rows x 26 columns]",
      "text/html": "<div>\n<style scoped>\n    .dataframe tbody tr th:only-of-type {\n        vertical-align: middle;\n    }\n\n    .dataframe tbody tr th {\n        vertical-align: top;\n    }\n\n    .dataframe thead th {\n        text-align: right;\n    }\n</style>\n<table border=\"1\" class=\"dataframe\">\n  <thead>\n    <tr style=\"text-align: right;\">\n      <th></th>\n      <th>City</th>\n      <th>Customer Age</th>\n      <th>Customer Name</th>\n      <th>Customer Segment</th>\n      <th>Discount</th>\n      <th>Number of Records</th>\n      <th>Order Date</th>\n      <th>Order ID</th>\n      <th>Order Priority</th>\n      <th>Order Quantity</th>\n      <th>...</th>\n      <th>Region</th>\n      <th>Row ID</th>\n      <th>Sales</th>\n      <th>Ship Date</th>\n      <th>Ship Mode</th>\n      <th>Shipping Cost</th>\n      <th>State</th>\n      <th>Unit Price</th>\n      <th>Zip Code</th>\n      <th>region_encoded</th>\n    </tr>\n  </thead>\n  <tbody>\n    <tr>\n      <th>0</th>\n      <td>McKeesport</td>\n      <td>NaN</td>\n      <td>Jessica Myrick</td>\n      <td>Small Business</td>\n      <td>0.10</td>\n      <td>1</td>\n      <td>01-01-2012</td>\n      <td>28774</td>\n      <td>High</td>\n      <td>32</td>\n      <td>...</td>\n      <td>East</td>\n      <td>4031</td>\n      <td>180.36</td>\n      <td>02-01-2012</td>\n      <td>Regular Air</td>\n      <td>4.69</td>\n      <td>Pennsylvania</td>\n      <td>5.98</td>\n      <td>15131</td>\n      <td>0</td>\n    </tr>\n    <tr>\n      <th>1</th>\n      <td>Bowie</td>\n      <td>NaN</td>\n      <td>Matt Collister</td>\n      <td>Home Office</td>\n      <td>0.08</td>\n      <td>1</td>\n      <td>01-01-2012</td>\n      <td>13729</td>\n      <td>Not Specified</td>\n      <td>9</td>\n      <td>...</td>\n      <td>East</td>\n      <td>1914</td>\n      <td>872.48</td>\n      <td>03-01-2012</td>\n      <td>Express Air</td>\n      <td>35.00</td>\n      <td>Maryland</td>\n      <td>95.99</td>\n      <td>20715</td>\n      <td>0</td>\n    </tr>\n    <tr>\n      <th>2</th>\n      <td>Napa</td>\n      <td>NaN</td>\n      <td>Alan Schoenberger</td>\n      <td>Corporate</td>\n      <td>0.00</td>\n      <td>1</td>\n      <td>02-01-2012</td>\n      <td>37537</td>\n      <td>Low</td>\n      <td>4</td>\n      <td>...</td>\n      <td>West</td>\n      <td>5272</td>\n      <td>1239.06</td>\n      <td>02-01-2012</td>\n      <td>Delivery Truck</td>\n      <td>48.80</td>\n      <td>California</td>\n      <td>291.73</td>\n      <td>94559</td>\n      <td>1</td>\n    </tr>\n    <tr>\n      <th>3</th>\n      <td>Montebello</td>\n      <td>NaN</td>\n      <td>Elizabeth Moffitt</td>\n      <td>Consumer</td>\n      <td>0.08</td>\n      <td>1</td>\n      <td>02-01-2012</td>\n      <td>44069</td>\n      <td>Critical</td>\n      <td>43</td>\n      <td>...</td>\n      <td>West</td>\n      <td>6225</td>\n      <td>614.80</td>\n      <td>02-01-2012</td>\n      <td>Regular Air</td>\n      <td>1.97</td>\n      <td>California</td>\n      <td>15.04</td>\n      <td>90640</td>\n      <td>1</td>\n    </tr>\n    <tr>\n      <th>4</th>\n      <td>Napa</td>\n      <td>NaN</td>\n      <td>Alan Schoenberger</td>\n      <td>Corporate</td>\n      <td>0.07</td>\n      <td>1</td>\n      <td>02-01-2012</td>\n      <td>37537</td>\n      <td>Low</td>\n      <td>43</td>\n      <td>...</td>\n      <td>West</td>\n      <td>5273</td>\n      <td>4083.19</td>\n      <td>04-01-2012</td>\n      <td>Delivery Truck</td>\n      <td>45.00</td>\n      <td>California</td>\n      <td>100.98</td>\n      <td>94559</td>\n      <td>1</td>\n    </tr>\n    <tr>\n      <th>...</th>\n      <td>...</td>\n      <td>...</td>\n      <td>...</td>\n      <td>...</td>\n      <td>...</td>\n      <td>...</td>\n      <td>...</td>\n      <td>...</td>\n      <td>...</td>\n      <td>...</td>\n      <td>...</td>\n      <td>...</td>\n      <td>...</td>\n      <td>...</td>\n      <td>...</td>\n      <td>...</td>\n      <td>...</td>\n      <td>...</td>\n      <td>...</td>\n      <td>...</td>\n      <td>...</td>\n    </tr>\n    <tr>\n      <th>8394</th>\n      <td>Fairfield</td>\n      <td>95.0</td>\n      <td>Tony Molinari</td>\n      <td>Corporate</td>\n      <td>0.10</td>\n      <td>1</td>\n      <td>30-12-2015</td>\n      <td>50950</td>\n      <td>Not Specified</td>\n      <td>35</td>\n      <td>...</td>\n      <td>West</td>\n      <td>7142</td>\n      <td>448.10</td>\n      <td>30-12-2015</td>\n      <td>Express Air</td>\n      <td>4.51</td>\n      <td>California</td>\n      <td>13.48</td>\n      <td>94533</td>\n      <td>1</td>\n    </tr>\n    <tr>\n      <th>8395</th>\n      <td>Harker Heights</td>\n      <td>95.0</td>\n      <td>Matt Hagelstein</td>\n      <td>Home Office</td>\n      <td>0.09</td>\n      <td>1</td>\n      <td>30-12-2015</td>\n      <td>25542</td>\n      <td>Low</td>\n      <td>37</td>\n      <td>...</td>\n      <td>Central</td>\n      <td>3583</td>\n      <td>257.46</td>\n      <td>30-12-2015</td>\n      <td>Express Air</td>\n      <td>4.23</td>\n      <td>Texas</td>\n      <td>7.28</td>\n      <td>76543</td>\n      <td>2</td>\n    </tr>\n    <tr>\n      <th>8396</th>\n      <td>Riverview</td>\n      <td>95.0</td>\n      <td>Theresa Swint</td>\n      <td>Consumer</td>\n      <td>0.10</td>\n      <td>1</td>\n      <td>30-12-2015</td>\n      <td>45127</td>\n      <td>Medium</td>\n      <td>10</td>\n      <td>...</td>\n      <td>South</td>\n      <td>6361</td>\n      <td>14.15</td>\n      <td>30-12-2015</td>\n      <td>Regular Air</td>\n      <td>0.70</td>\n      <td>Florida</td>\n      <td>1.48</td>\n      <td>33569</td>\n      <td>3</td>\n    </tr>\n    <tr>\n      <th>8397</th>\n      <td>Nicholasville</td>\n      <td>95.0</td>\n      <td>Maribeth Yedwab</td>\n      <td>Home Office</td>\n      <td>0.09</td>\n      <td>1</td>\n      <td>30-12-2015</td>\n      <td>49344</td>\n      <td>Low</td>\n      <td>1</td>\n      <td>...</td>\n      <td>South</td>\n      <td>6916</td>\n      <td>803.33</td>\n      <td>30-12-2015</td>\n      <td>Regular Air</td>\n      <td>24.49</td>\n      <td>Kentucky</td>\n      <td>832.81</td>\n      <td>40356</td>\n      <td>3</td>\n    </tr>\n    <tr>\n      <th>8398</th>\n      <td>Nicholasville</td>\n      <td>95.0</td>\n      <td>Maribeth Yedwab</td>\n      <td>Home Office</td>\n      <td>0.00</td>\n      <td>1</td>\n      <td>30-12-2015</td>\n      <td>49344</td>\n      <td>Low</td>\n      <td>31</td>\n      <td>...</td>\n      <td>South</td>\n      <td>6915</td>\n      <td>672.93</td>\n      <td>30-12-2015</td>\n      <td>Regular Air</td>\n      <td>4.00</td>\n      <td>Kentucky</td>\n      <td>19.98</td>\n      <td>40356</td>\n      <td>3</td>\n    </tr>\n  </tbody>\n</table>\n<p>8399 rows × 26 columns</p>\n</div>"
     },
     "execution_count": 9,
     "metadata": {},
     "output_type": "execute_result"
    }
   ],
   "source": [
    "df['region_encoded'],region_index = df['Region'].factorize()\n",
    "df"
   ]
  },
  {
   "cell_type": "code",
   "execution_count": 10,
   "metadata": {
    "ExecuteTime": {
     "end_time": "2023-02-10T12:08:36.820432Z",
     "start_time": "2023-02-10T12:08:36.820432Z"
    }
   },
   "outputs": [
    {
     "data": {
      "text/plain": "Index(['East', 'West', 'Central', 'South'], dtype='object')"
     },
     "execution_count": 10,
     "metadata": {},
     "output_type": "execute_result"
    }
   ],
   "source": [
    "region_index"
   ]
  },
  {
   "cell_type": "markdown",
   "source": [],
   "metadata": {
    "collapsed": false
   }
  },
  {
   "cell_type": "code",
   "execution_count": 11,
   "metadata": {
    "ExecuteTime": {
     "end_time": "2023-02-10T12:08:36.822433Z",
     "start_time": "2023-02-10T12:08:36.822433Z"
    }
   },
   "outputs": [
    {
     "data": {
      "text/plain": "'Central'"
     },
     "execution_count": 11,
     "metadata": {},
     "output_type": "execute_result"
    }
   ],
   "source": [
    "df['Region'].iloc[6]"
   ]
  },
  {
   "cell_type": "code",
   "execution_count": 12,
   "metadata": {
    "ExecuteTime": {
     "end_time": "2023-02-10T12:08:36.824434Z",
     "start_time": "2023-02-10T12:08:36.824434Z"
    }
   },
   "outputs": [
    {
     "data": {
      "text/plain": "array([2], dtype=int64)"
     },
     "execution_count": 12,
     "metadata": {},
     "output_type": "execute_result"
    }
   ],
   "source": [
    "region_index.get_indexer(['Central'])"
   ]
  },
  {
   "cell_type": "markdown",
   "metadata": {},
   "source": []
  },
  {
   "cell_type": "code",
   "execution_count": 13,
   "metadata": {
    "ExecuteTime": {
     "end_time": "2023-02-10T12:08:36.826431Z",
     "start_time": "2023-02-10T12:08:36.826431Z"
    }
   },
   "outputs": [
    {
     "name": "stdout",
     "output_type": "stream",
     "text": [
      "   color  size\n",
      "0    2.0   3.0\n",
      "1    1.0   2.0\n",
      "2    0.0   1.0\n",
      "3    3.0   0.0\n"
     ]
    }
   ],
   "source": [
    "import pandas as pd\n",
    "from sklearn.preprocessing import OrdinalEncoder\n",
    "\n",
    "# Create a sample dataframe with ordinal variables\n",
    "df = pd.DataFrame({'color': ['red', 'green', 'blue', 'yellow'],\n",
    "                   'size': ['small', 'medium', 'large', 'extra large']})\n",
    "\n",
    "# Instantiate an OrdinalEncoder object\n",
    "encoder = OrdinalEncoder()\n",
    "\n",
    "# Fit and transform the ordinal variables\n",
    "df[['color', 'size']] = encoder.fit_transform(df[['color', 'size']])\n",
    "\n",
    "print(df)"
   ]
  },
  {
   "cell_type": "code",
   "execution_count": null,
   "metadata": {},
   "outputs": [],
   "source": []
  }
 ],
 "metadata": {
  "kernelspec": {
   "display_name": "Python 3 (ipykernel)",
   "language": "python",
   "name": "python3"
  },
  "language_info": {
   "codemirror_mode": {
    "name": "ipython",
    "version": 3
   },
   "file_extension": ".py",
   "mimetype": "text/x-python",
   "name": "python",
   "nbconvert_exporter": "python",
   "pygments_lexer": "ipython3",
   "version": "3.10.9"
  },
  "toc": {
   "base_numbering": 1,
   "nav_menu": {},
   "number_sections": true,
   "sideBar": true,
   "skip_h1_title": false,
   "title_cell": "Table of Contents",
   "title_sidebar": "Contents",
   "toc_cell": false,
   "toc_position": {},
   "toc_section_display": true,
   "toc_window_display": false
  },
  "varInspector": {
   "cols": {
    "lenName": 16,
    "lenType": 16,
    "lenVar": 40
   },
   "kernels_config": {
    "python": {
     "delete_cmd_postfix": "",
     "delete_cmd_prefix": "del ",
     "library": "var_list.py",
     "varRefreshCmd": "print(var_dic_list())"
    },
    "r": {
     "delete_cmd_postfix": ") ",
     "delete_cmd_prefix": "rm(",
     "library": "var_list.r",
     "varRefreshCmd": "cat(var_dic_list()) "
    }
   },
   "types_to_exclude": [
    "module",
    "function",
    "builtin_function_or_method",
    "instance",
    "_Feature"
   ],
   "window_display": false
  }
 },
 "nbformat": 4,
 "nbformat_minor": 1
}

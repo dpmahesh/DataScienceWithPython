{
 "cells": [
  {
   "cell_type": "code",
   "execution_count": 1,
   "metadata": {
    "collapsed": true
   },
   "outputs": [
    {
     "name": "stdout",
     "output_type": "stream",
     "text": [
      "    Reservation ID Customer ID  Hotel ID Room Type Check-in Date  \\\n",
      "0          RES0001    CUST0001  HOTEL004     Suite    2022-06-26   \n",
      "1          RES0002    CUST0002  HOTEL003  Standard    2022-11-11   \n",
      "2          RES0003    CUST0003  HOTEL004    Double    2022-04-05   \n",
      "3          RES0004    CUST0004  HOTEL003     Suite    2022-06-21   \n",
      "4          RES0005    CUST0005  HOTEL001    Single    2022-06-27   \n",
      "..             ...         ...       ...       ...           ...   \n",
      "195       RES00196   CUST00196  HOTEL003  Standard    2022-09-21   \n",
      "196       RES00197   CUST00197  HOTEL003  Standard    2022-05-04   \n",
      "197       RES00198   CUST00198  HOTEL002  Standard    2022-06-27   \n",
      "198       RES00199   CUST00199  HOTEL004  Standard    2022-12-07   \n",
      "199       RES00200   CUST00200  HOTEL001    Single    2022-08-19   \n",
      "\n",
      "    Check-out Date  Number of Guests Booking Date Booking Channel  \\\n",
      "0       2022-07-03                 2   2021-09-26          Online   \n",
      "1       2022-11-16                 4   2022-02-27           Phone   \n",
      "2       2022-04-09                 3   2021-09-13           Phone   \n",
      "3       2022-06-25                 3   2022-05-17          Online   \n",
      "4       2022-07-04                 3   2022-02-09           Phone   \n",
      "..             ...               ...          ...             ...   \n",
      "195     2022-09-23                 4   2022-02-20           Phone   \n",
      "196     2022-05-09                 2   2022-03-11          Online   \n",
      "197     2022-07-02                 4   2021-12-08           Phone   \n",
      "198     2022-12-14                 3   2022-06-28          Online   \n",
      "199     2022-08-21                 1   2022-02-27          Online   \n",
      "\n",
      "    Booking Source  Total Price Payment Method  Cancelled  Customer City  \\\n",
      "0    Travel Agency          610    Credit Card          0   Indianapolis   \n",
      "1    Travel Agency         1155    Credit Card          0         Austin   \n",
      "2           Direct         1223    Credit Card          0   Indianapolis   \n",
      "3    Travel Agency         1557     Debit Card          1   Indianapolis   \n",
      "4    Travel Agency         1731           Cash          1   Jacksonville   \n",
      "..             ...          ...            ...        ...            ...   \n",
      "195  Travel Agency          104    Credit Card          0        Chicago   \n",
      "196         Direct         1175    Credit Card          1        Chicago   \n",
      "197  Travel Agency          839    Credit Card          1         Denver   \n",
      "198  Travel Agency         1477    Credit Card          0  San Francisco   \n",
      "199  Travel Agency         1612    Credit Card          0      Charlotte   \n",
      "\n",
      "     Customer State  \n",
      "0         Tennessee  \n",
      "1        Washington  \n",
      "2    North Carolina  \n",
      "3         Tennessee  \n",
      "4           Indiana  \n",
      "..              ...  \n",
      "195           Texas  \n",
      "196           Texas  \n",
      "197        Illinois  \n",
      "198            Ohio  \n",
      "199            Ohio  \n",
      "\n",
      "[200 rows x 15 columns]\n"
     ]
    }
   ],
   "source": [
    "import random\n",
    "import pandas as pd\n",
    "from datetime import datetime, timedelta\n",
    "\n",
    "# Define sample data for hotels, room types, booking channels, and sources\n",
    "hotels = ['HOTEL001', 'HOTEL002', 'HOTEL003', 'HOTEL004']\n",
    "room_types = ['Single', 'Double', 'Suite', 'Standard']\n",
    "booking_channels = ['Online', 'Phone']\n",
    "booking_sources = ['Direct', 'Travel Agency']\n",
    "\n",
    "# Define function to generate random dates\n",
    "def random_date(start_date, end_date):\n",
    "    delta = end_date - start_date\n",
    "    random_days = random.randrange(delta.days)\n",
    "    return start_date + timedelta(days=random_days)\n",
    "\n",
    "# Generate sample data for 200 rows with lead time\n",
    "reservations = []\n",
    "for i in range(1, 201):\n",
    "    reservation_id = f\"RES00{i:02}\"\n",
    "    customer_id = f\"CUST00{i:02}\"\n",
    "    hotel_id = random.choice(hotels)\n",
    "    room_type = random.choice(room_types)\n",
    "    checkin_date = random_date(datetime(2022, 1, 1), datetime(2022, 12, 31))\n",
    "    checkout_date = checkin_date + timedelta(days=random.randint(1, 7))\n",
    "    num_guests = random.randint(1, 4)\n",
    "    lead_time = random.randint(0, 365)\n",
    "    booking_date = checkin_date - timedelta(days=lead_time)\n",
    "    booking_channel = random.choice(booking_channels)\n",
    "    booking_source = random.choice(booking_sources)\n",
    "    total_price = random.randint(50, 2000)\n",
    "    payment_method = random.choice(['Cash', 'Credit Card', 'Debit Card'])\n",
    "    cancelled = random.choice([0, 1])\n",
    "    customer_city = random.choice(['Austin', 'Chicago', 'Denver', 'Jacksonville', 'San Francisco', 'Charlotte', 'Indianapolis', 'Seattle', 'Nashville', 'Columbus'])\n",
    "    customer_state = random.choice(['Texas', 'Illinois', 'Colorado', 'Florida', 'California', 'North Carolina', 'Indiana', 'Washington', 'Tennessee', 'Ohio'])\n",
    "    reservations.append((reservation_id, customer_id, hotel_id, room_type, checkin_date, checkout_date, num_guests, booking_date, booking_channel, booking_source, total_price, payment_method, cancelled, customer_city, customer_state))\n",
    "\n",
    "# Convert the data into a pandas DataFrame\n",
    "df = pd.DataFrame(reservations, columns=['Reservation ID', 'Customer ID', 'Hotel ID', 'Room Type', 'Check-in Date', 'Check-out Date', 'Number of Guests', 'Booking Date', 'Booking Channel', 'Booking Source', 'Total Price', 'Payment Method', 'Cancelled', 'Customer City', 'Customer State'])\n",
    "\n",
    "# Print the DataFrame\n",
    "print(df)\n"
   ]
  },
  {
   "cell_type": "code",
   "execution_count": null,
   "outputs": [],
   "source": [],
   "metadata": {
    "collapsed": false
   }
  }
 ],
 "metadata": {
  "kernelspec": {
   "display_name": "Python 3",
   "language": "python",
   "name": "python3"
  },
  "language_info": {
   "codemirror_mode": {
    "name": "ipython",
    "version": 2
   },
   "file_extension": ".py",
   "mimetype": "text/x-python",
   "name": "python",
   "nbconvert_exporter": "python",
   "pygments_lexer": "ipython2",
   "version": "2.7.6"
  }
 },
 "nbformat": 4,
 "nbformat_minor": 0
}

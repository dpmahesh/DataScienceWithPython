{
 "cells": [
  {
   "cell_type": "markdown",
   "source": [
    "# From ChatGPT to generate hotel booking dataset"
   ],
   "metadata": {
    "collapsed": false
   }
  },
  {
   "cell_type": "code",
   "execution_count": 27,
   "outputs": [],
   "source": [
    "import random\n",
    "from datetime import datetime, timedelta\n",
    "import pandas as pd\n",
    "\n",
    "# Function to generate a random date between start_year and end_year\n",
    "def random_date(start_year, end_year):\n",
    "    start_date = datetime(start_year, 1, 1)\n",
    "    end_date = datetime(end_year, 12, 31)\n",
    "    time_between_dates = end_date - start_date\n",
    "    days_between_dates = time_between_dates.days\n",
    "    random_number_of_days = random.randrange(days_between_dates)\n",
    "    random_date = start_date + timedelta(days=random_number_of_days)\n",
    "    return random_date.strftime(\"%Y-%m-%d\")\n",
    "\n",
    "# Generate a hotel booking dataset\n",
    "num_records = 1000\n",
    "\n",
    "hotel_data = {\n",
    "    'Hotel': [random.choice(['City Hotel', 'Resort Hotel']) for _ in range(num_records)],\n",
    "    'Is repeated guest': [random.choice([0, 1]) for _ in range(num_records)],\n",
    "    'Arrival date': [random_date(2020, 2022) for _ in range(num_records)],\n",
    "    'Departure date': [random_date(2020, 2022) for _ in range(num_records)],\n",
    "    'Lead time': [random.randint(0, 365) for _ in range(num_records)],\n",
    "    'Adults': [random.randint(1, 4) for _ in range(num_records)],\n",
    "    'Children': [random.randint(0, 2) for _ in range(num_records)],\n",
    "    'Babies': [random.randint(0, 1) for _ in range(num_records)],\n",
    "    'Meal': [random.choice(['BB', 'HB', 'FB']) for _ in range(num_records)],\n",
    "    'Country': [random.choice(['Portugal', 'Spain', 'France', 'Germany', 'United Kingdom']) for _ in range(num_records)],\n",
    "    'Market segment': [random.choice(['Direct', 'Corporate', 'Online TA', 'Offline TA/TO']) for _ in range(num_records)],\n",
    "    'Distribution channel': [random.choice(['Direct', 'Corporate', 'TA/TO']) for _ in range(num_records)],\n",
    "    'Is repeated guest': [random.choice([0, 1]) for _ in range(num_records)],\n",
    "    'Customer type': [random.choice(['Transient', 'Contract', 'Group', 'Transient-Party']) for _ in range(num_records)],\n",
    "    'Room type': [random.choice(['Single', 'Double', 'Triple']) for _ in range(num_records)],\n",
    "    'Booking changes': [random.randint(0, 3) for _ in range(num_records)],\n",
    "    'Deposit type': [random.choice(['No Deposit', 'Non Refund', 'Refundable']) for _ in range(num_records)],\n",
    "    'Agent': [random.choice([1, 2, 3, 4, 5, 6, 7, 8, 9, 10]) for _ in range(num_records)],\n",
    "    'Company': [random.choice([1, 2, 3, 4, 5, 6, 7, 8, 9, 10]) for _ in range(num_records)],\n",
    "    'Days in waiting list': [random.randint(0, 50) for _ in range(num_records)],\n",
    "    'Customer City': [random.choice(['Lisbon', 'Madrid', 'Paris', 'Berlin', 'London']) for _ in range(num_records)],\n",
    "    'Customer State': [random.choice(['Lisbon', 'Madrid', 'Paris', 'Berlin', 'London']) for _ in range(num_records)],\n",
    "    'ADR': [round(random.uniform(50, 200), 2) for _ in range(num_records)],\n",
    "    'Required car parking spaces': [random.randint(0, 2) for _ in range(num_records)],\n",
    "    'Total of special requests': [random.randint(0, 4) for _ in range(num_records)],\n",
    "    'Reservation status': [random.choice(['Canceled', 'Check-Out', 'No-Show']) for _ in range(num_records)],\n",
    "    'Reservation status date': [random_date(2020, 2022) for _ in range(num_records)]\n",
    "}\n",
    "\n",
    "hotel_df = pd.DataFrame(hotel_data)\n",
    "hotel_df['Arrival date'] = pd.to_datetime(hotel_df['Arrival date'])\n",
    "hotel_df['Booking Date']=  hotel_df['Arrival date'] -  pd.to_timedelta(hotel_df['Lead time'], unit='D')\n",
    "hotel_df['Canceled'] =  hotel_df['Reservation status'].apply(lambda x: 1 if x == 'Canceled' else 0)\n"
   ],
   "metadata": {
    "collapsed": false
   }
  },
  {
   "cell_type": "code",
   "execution_count": 28,
   "outputs": [
    {
     "data": {
      "text/plain": "          Hotel  Is repeated guest Arrival date Departure date  Lead time  \\\n0    City Hotel                  0   2021-10-12     2020-04-13         79   \n1  Resort Hotel                  0   2022-08-30     2020-08-20        278   \n2  Resort Hotel                  0   2022-09-10     2022-02-27        180   \n3    City Hotel                  1   2020-03-30     2020-04-27        101   \n4  Resort Hotel                  0   2021-08-15     2022-02-15        205   \n\n   Adults  Children  Babies Meal         Country  ... Days in waiting list  \\\n0       1         1       0   FB        Portugal  ...                   17   \n1       3         0       1   FB  United Kingdom  ...                   34   \n2       3         2       1   FB           Spain  ...                   36   \n3       2         0       1   HB         Germany  ...                   28   \n4       3         2       0   BB          France  ...                   31   \n\n  Customer City Customer State     ADR  Required car parking spaces  \\\n0        Madrid          Paris  168.36                            0   \n1        London         Lisbon  149.85                            1   \n2        Berlin          Paris  104.59                            2   \n3        Madrid         Madrid   99.90                            0   \n4        Lisbon         Madrid   52.37                            1   \n\n  Total of special requests  Reservation status  Reservation status date  \\\n0                         3            Canceled               2021-04-30   \n1                         3           Check-Out               2022-12-01   \n2                         4           Check-Out               2022-07-27   \n3                         3           Check-Out               2021-11-30   \n4                         0           Check-Out               2021-02-10   \n\n   Booking Date Canceled  \n0    2021-07-25        1  \n1    2021-11-25        0  \n2    2022-03-14        0  \n3    2019-12-20        0  \n4    2021-01-22        0  \n\n[5 rows x 28 columns]",
      "text/html": "<div>\n<style scoped>\n    .dataframe tbody tr th:only-of-type {\n        vertical-align: middle;\n    }\n\n    .dataframe tbody tr th {\n        vertical-align: top;\n    }\n\n    .dataframe thead th {\n        text-align: right;\n    }\n</style>\n<table border=\"1\" class=\"dataframe\">\n  <thead>\n    <tr style=\"text-align: right;\">\n      <th></th>\n      <th>Hotel</th>\n      <th>Is repeated guest</th>\n      <th>Arrival date</th>\n      <th>Departure date</th>\n      <th>Lead time</th>\n      <th>Adults</th>\n      <th>Children</th>\n      <th>Babies</th>\n      <th>Meal</th>\n      <th>Country</th>\n      <th>...</th>\n      <th>Days in waiting list</th>\n      <th>Customer City</th>\n      <th>Customer State</th>\n      <th>ADR</th>\n      <th>Required car parking spaces</th>\n      <th>Total of special requests</th>\n      <th>Reservation status</th>\n      <th>Reservation status date</th>\n      <th>Booking Date</th>\n      <th>Canceled</th>\n    </tr>\n  </thead>\n  <tbody>\n    <tr>\n      <th>0</th>\n      <td>City Hotel</td>\n      <td>0</td>\n      <td>2021-10-12</td>\n      <td>2020-04-13</td>\n      <td>79</td>\n      <td>1</td>\n      <td>1</td>\n      <td>0</td>\n      <td>FB</td>\n      <td>Portugal</td>\n      <td>...</td>\n      <td>17</td>\n      <td>Madrid</td>\n      <td>Paris</td>\n      <td>168.36</td>\n      <td>0</td>\n      <td>3</td>\n      <td>Canceled</td>\n      <td>2021-04-30</td>\n      <td>2021-07-25</td>\n      <td>1</td>\n    </tr>\n    <tr>\n      <th>1</th>\n      <td>Resort Hotel</td>\n      <td>0</td>\n      <td>2022-08-30</td>\n      <td>2020-08-20</td>\n      <td>278</td>\n      <td>3</td>\n      <td>0</td>\n      <td>1</td>\n      <td>FB</td>\n      <td>United Kingdom</td>\n      <td>...</td>\n      <td>34</td>\n      <td>London</td>\n      <td>Lisbon</td>\n      <td>149.85</td>\n      <td>1</td>\n      <td>3</td>\n      <td>Check-Out</td>\n      <td>2022-12-01</td>\n      <td>2021-11-25</td>\n      <td>0</td>\n    </tr>\n    <tr>\n      <th>2</th>\n      <td>Resort Hotel</td>\n      <td>0</td>\n      <td>2022-09-10</td>\n      <td>2022-02-27</td>\n      <td>180</td>\n      <td>3</td>\n      <td>2</td>\n      <td>1</td>\n      <td>FB</td>\n      <td>Spain</td>\n      <td>...</td>\n      <td>36</td>\n      <td>Berlin</td>\n      <td>Paris</td>\n      <td>104.59</td>\n      <td>2</td>\n      <td>4</td>\n      <td>Check-Out</td>\n      <td>2022-07-27</td>\n      <td>2022-03-14</td>\n      <td>0</td>\n    </tr>\n    <tr>\n      <th>3</th>\n      <td>City Hotel</td>\n      <td>1</td>\n      <td>2020-03-30</td>\n      <td>2020-04-27</td>\n      <td>101</td>\n      <td>2</td>\n      <td>0</td>\n      <td>1</td>\n      <td>HB</td>\n      <td>Germany</td>\n      <td>...</td>\n      <td>28</td>\n      <td>Madrid</td>\n      <td>Madrid</td>\n      <td>99.90</td>\n      <td>0</td>\n      <td>3</td>\n      <td>Check-Out</td>\n      <td>2021-11-30</td>\n      <td>2019-12-20</td>\n      <td>0</td>\n    </tr>\n    <tr>\n      <th>4</th>\n      <td>Resort Hotel</td>\n      <td>0</td>\n      <td>2021-08-15</td>\n      <td>2022-02-15</td>\n      <td>205</td>\n      <td>3</td>\n      <td>2</td>\n      <td>0</td>\n      <td>BB</td>\n      <td>France</td>\n      <td>...</td>\n      <td>31</td>\n      <td>Lisbon</td>\n      <td>Madrid</td>\n      <td>52.37</td>\n      <td>1</td>\n      <td>0</td>\n      <td>Check-Out</td>\n      <td>2021-02-10</td>\n      <td>2021-01-22</td>\n      <td>0</td>\n    </tr>\n  </tbody>\n</table>\n<p>5 rows × 28 columns</p>\n</div>"
     },
     "execution_count": 28,
     "metadata": {},
     "output_type": "execute_result"
    }
   ],
   "source": [
    "hotel_df.to_csv('../data/hotel_bookings.csv')\n",
    "hotel_df.head()"
   ],
   "metadata": {
    "collapsed": false
   }
  },
  {
   "cell_type": "code",
   "execution_count": 25,
   "outputs": [
    {
     "data": {
      "text/plain": "datetime.datetime(2020, 6, 13, 0, 0)"
     },
     "execution_count": 25,
     "metadata": {},
     "output_type": "execute_result"
    }
   ],
   "source": [
    "datetime(year=2021,month=5,day=12 )-timedelta(days=333)"
   ],
   "metadata": {
    "collapsed": false
   }
  },
  {
   "cell_type": "code",
   "execution_count": null,
   "outputs": [],
   "source": [],
   "metadata": {
    "collapsed": false
   }
  }
 ],
 "metadata": {
  "kernelspec": {
   "display_name": "Python 3",
   "language": "python",
   "name": "python3"
  },
  "language_info": {
   "codemirror_mode": {
    "name": "ipython",
    "version": 2
   },
   "file_extension": ".py",
   "mimetype": "text/x-python",
   "name": "python",
   "nbconvert_exporter": "python",
   "pygments_lexer": "ipython2",
   "version": "2.7.6"
  }
 },
 "nbformat": 4,
 "nbformat_minor": 0
}
